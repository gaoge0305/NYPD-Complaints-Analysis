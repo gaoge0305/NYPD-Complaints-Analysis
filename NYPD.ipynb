{
 "cells": [
  {
   "cell_type": "markdown",
   "metadata": {},
   "source": [
    "# NYPD-Complaints-Analysis\n",
    "\n",
    "**Ge Gao & Zhaoyi Yu**"
   ]
  },
  {
   "cell_type": "markdown",
   "metadata": {},
   "source": [
    "## Summary of Findings\n",
    "\n",
    "\n",
    "### Introduction\n",
    "- Following project 3, we continued study about the dataframe of NYPD, which contains information on more than 12,000 civilian complaints filed against New York City police officers. We aim to figure out a way to predict whether the civilian alleged did happen or not using the methods we learned from lecture. \n",
    "\n",
    "### Prediction\n",
    "- We want to predict whether the civilian alleged did happen or not because it's significangt in reflecting whether an officer is innocent. Looking at the outcome in the column of board_disposition, we see many types of substantiation, exoneration, and unsubstantiation. For those substantiated allegatoins, there are different discriptions such as charges and Formalized Training. Therefore, we decide to put all the types of substantiation together, because they all means that the civilians alleged did happen. Also, for exonerate cases, we treat them as happened, because exoneration means that the allegation did happen but didn't violate the law. Then we will get two unique outcomes: happened or not happened. \n",
    "\n",
    "- The outcome of our prediction will be classifier. Since there are two possible results, it's a binary classification problem.\n",
    "\n",
    "- We will use Accuracy as our evaluation metric in our model, because our classes is balanced. As we see, there are 15448 unsubtantiate cases, and only 17910 substantiated cases. We just want to know how many prediction is correct, and there is no major downside to predicting false negatives. \n",
    "\n",
    "- There are some features that we cannot use, for example, rank_abbrev_now, month_closed and year_closed, because these information we only know after the case is finalized. \n",
    "\n",
    "### Baseline Model\n",
    "- The feateures that we want to use to predict the outcome will include mos_age_incident, complainant_gender, mos_gender, complainant_age_incident, fado_type. We use these variables because they might be related to the outcome.We impute the null values in these columns by column mean and highest frequent value within each column.\n",
    "- mos_age_incident and complainant_age_incident are qunatitative variables. We didn't encode them in baseline model. \n",
    "- fado_type, complainant_gender, mos_gender are categorical variables. (All nominal) We just use one-hot encoding. \n",
    "- The accuracy for our prediction on unseen data is 58.60%, which is not good enough. We want to improve it. \n",
    "\n",
    "\n",
    "### Final Model\n",
    "- For our final model, we added two new features from the original dataframe: outcome_description and rank_incident. The reason is that the distribution of outcome_description and rank_incident are both slightly different for different board_disposition. So these two features might be significant in predicting the board_disposition.\n",
    "- We also improve the model by eliminate impossible age(under zero) and standardize the age of mos and complainant. Then we generate a new column which is 'same_gender', representing that whether police and complianant have the same gender. That might help because officers might or might not treat people that have the same gender as them differently, which might correlates to the substaintiation of each case. \n",
    "- We choose Decision Tree classifier as our model, and use grid search to get the best parameter for our model: max_depth = 5, and min_sample_split = 7. \n",
    "- We improve our model by approximately 4%.\n",
    "\n",
    "\n",
    "### Fairness Analysis\n",
    "- For our fairness evaluation, we choose the column `mos_gender`. We want to know does our model perform the same for individuals in female mos and for individuals in male mos?  We set alpha = 0.05. \n",
    "- We will use precision as our measurement. Because we really don't want false positive which will lead to injustice in this case.\n",
    "- Null hypothesis: Our model is fair. Its precision for female police and male police are roughly the same, and any differences are due to random chance.\n",
    "- Alternative Hypothesis: Our model is unfair. Its precision for female police is lower than its precision for male police.\n",
    "- The p-value we get is 0.07, which is larger than alpha. So we fail to reject the null hypothesis. Our model likely achieves precision parity.\n"
   ]
  },
  {
   "cell_type": "markdown",
   "metadata": {},
   "source": [
    "## Code"
   ]
  },
  {
   "cell_type": "code",
   "execution_count": 69,
   "metadata": {},
   "outputs": [],
   "source": [
    "import matplotlib.pyplot as plt\n",
    "import numpy as np\n",
    "import os\n",
    "import pandas as pd\n",
    "import seaborn as sns\n",
    "%config InlineBackend.figure_format = 'retina'  # Higher resolution figures"
   ]
  },
  {
   "cell_type": "code",
   "execution_count": 70,
   "metadata": {},
   "outputs": [],
   "source": [
    "# import all the packages we need\n",
    "from sklearn.pipeline import Pipeline\n",
    "from sklearn.model_selection import train_test_split\n",
    "from sklearn.linear_model import LinearRegression\n",
    "from sklearn.preprocessing import FunctionTransformer\n",
    "from sklearn.preprocessing import OneHotEncoder\n",
    "from sklearn.compose import ColumnTransformer\n",
    "from sklearn.tree import DecisionTreeRegressor\n",
    "from sklearn.preprocessing import Binarizer\n",
    "from sklearn.tree import DecisionTreeClassifier\n",
    "from sklearn.impute import SimpleImputer\n",
    "from sklearn import metrics\n",
    "from sklearn.preprocessing import StandardScaler\n",
    "from sklearn.preprocessing import QuantileTransformer\n",
    "from sklearn.preprocessing import OrdinalEncoder\n",
    "from sklearn.linear_model import LinearRegression\n",
    "from sklearn.model_selection import GridSearchCV"
   ]
  },
  {
   "cell_type": "markdown",
   "metadata": {},
   "source": [
    "### Baseline Model"
   ]
  },
  {
   "cell_type": "markdown",
   "metadata": {},
   "source": [
    "We develop a baseline model for some features."
   ]
  },
  {
   "cell_type": "code",
   "execution_count": 71,
   "metadata": {},
   "outputs": [
    {
     "data": {
      "text/html": [
       "<div>\n",
       "<style scoped>\n",
       "    .dataframe tbody tr th:only-of-type {\n",
       "        vertical-align: middle;\n",
       "    }\n",
       "\n",
       "    .dataframe tbody tr th {\n",
       "        vertical-align: top;\n",
       "    }\n",
       "\n",
       "    .dataframe thead th {\n",
       "        text-align: right;\n",
       "    }\n",
       "</style>\n",
       "<table border=\"1\" class=\"dataframe\">\n",
       "  <thead>\n",
       "    <tr style=\"text-align: right;\">\n",
       "      <th></th>\n",
       "      <th>unique_mos_id</th>\n",
       "      <th>first_name</th>\n",
       "      <th>last_name</th>\n",
       "      <th>command_now</th>\n",
       "      <th>shield_no</th>\n",
       "      <th>complaint_id</th>\n",
       "      <th>month_received</th>\n",
       "      <th>year_received</th>\n",
       "      <th>month_closed</th>\n",
       "      <th>year_closed</th>\n",
       "      <th>...</th>\n",
       "      <th>mos_age_incident</th>\n",
       "      <th>complainant_ethnicity</th>\n",
       "      <th>complainant_gender</th>\n",
       "      <th>complainant_age_incident</th>\n",
       "      <th>fado_type</th>\n",
       "      <th>allegation</th>\n",
       "      <th>precinct</th>\n",
       "      <th>contact_reason</th>\n",
       "      <th>outcome_description</th>\n",
       "      <th>board_disposition</th>\n",
       "    </tr>\n",
       "  </thead>\n",
       "  <tbody>\n",
       "    <tr>\n",
       "      <th>0</th>\n",
       "      <td>10004</td>\n",
       "      <td>Jonathan</td>\n",
       "      <td>Ruiz</td>\n",
       "      <td>078 PCT</td>\n",
       "      <td>8409</td>\n",
       "      <td>42835</td>\n",
       "      <td>7</td>\n",
       "      <td>2019</td>\n",
       "      <td>5</td>\n",
       "      <td>2020</td>\n",
       "      <td>...</td>\n",
       "      <td>32</td>\n",
       "      <td>Black</td>\n",
       "      <td>Female</td>\n",
       "      <td>38.0</td>\n",
       "      <td>Abuse of Authority</td>\n",
       "      <td>Failure to provide RTKA card</td>\n",
       "      <td>78.0</td>\n",
       "      <td>Report-domestic dispute</td>\n",
       "      <td>No arrest made or summons issued</td>\n",
       "      <td>Substantiated (Command Lvl Instructions)</td>\n",
       "    </tr>\n",
       "    <tr>\n",
       "      <th>1</th>\n",
       "      <td>10007</td>\n",
       "      <td>John</td>\n",
       "      <td>Sears</td>\n",
       "      <td>078 PCT</td>\n",
       "      <td>5952</td>\n",
       "      <td>24601</td>\n",
       "      <td>11</td>\n",
       "      <td>2011</td>\n",
       "      <td>8</td>\n",
       "      <td>2012</td>\n",
       "      <td>...</td>\n",
       "      <td>24</td>\n",
       "      <td>Black</td>\n",
       "      <td>Male</td>\n",
       "      <td>26.0</td>\n",
       "      <td>Discourtesy</td>\n",
       "      <td>Action</td>\n",
       "      <td>67.0</td>\n",
       "      <td>Moving violation</td>\n",
       "      <td>Moving violation summons issued</td>\n",
       "      <td>Substantiated (Charges)</td>\n",
       "    </tr>\n",
       "    <tr>\n",
       "      <th>2</th>\n",
       "      <td>10007</td>\n",
       "      <td>John</td>\n",
       "      <td>Sears</td>\n",
       "      <td>078 PCT</td>\n",
       "      <td>5952</td>\n",
       "      <td>24601</td>\n",
       "      <td>11</td>\n",
       "      <td>2011</td>\n",
       "      <td>8</td>\n",
       "      <td>2012</td>\n",
       "      <td>...</td>\n",
       "      <td>24</td>\n",
       "      <td>Black</td>\n",
       "      <td>Male</td>\n",
       "      <td>26.0</td>\n",
       "      <td>Offensive Language</td>\n",
       "      <td>Race</td>\n",
       "      <td>67.0</td>\n",
       "      <td>Moving violation</td>\n",
       "      <td>Moving violation summons issued</td>\n",
       "      <td>Substantiated (Charges)</td>\n",
       "    </tr>\n",
       "    <tr>\n",
       "      <th>3</th>\n",
       "      <td>10007</td>\n",
       "      <td>John</td>\n",
       "      <td>Sears</td>\n",
       "      <td>078 PCT</td>\n",
       "      <td>5952</td>\n",
       "      <td>26146</td>\n",
       "      <td>7</td>\n",
       "      <td>2012</td>\n",
       "      <td>9</td>\n",
       "      <td>2013</td>\n",
       "      <td>...</td>\n",
       "      <td>25</td>\n",
       "      <td>Black</td>\n",
       "      <td>Male</td>\n",
       "      <td>45.0</td>\n",
       "      <td>Abuse of Authority</td>\n",
       "      <td>Question</td>\n",
       "      <td>67.0</td>\n",
       "      <td>PD suspected C/V of violation/crime - street</td>\n",
       "      <td>No arrest made or summons issued</td>\n",
       "      <td>Substantiated (Charges)</td>\n",
       "    </tr>\n",
       "    <tr>\n",
       "      <th>4</th>\n",
       "      <td>10009</td>\n",
       "      <td>Noemi</td>\n",
       "      <td>Sierra</td>\n",
       "      <td>078 PCT</td>\n",
       "      <td>24058</td>\n",
       "      <td>40253</td>\n",
       "      <td>8</td>\n",
       "      <td>2018</td>\n",
       "      <td>2</td>\n",
       "      <td>2019</td>\n",
       "      <td>...</td>\n",
       "      <td>39</td>\n",
       "      <td>NaN</td>\n",
       "      <td>NaN</td>\n",
       "      <td>16.0</td>\n",
       "      <td>Force</td>\n",
       "      <td>Physical force</td>\n",
       "      <td>67.0</td>\n",
       "      <td>Report-dispute</td>\n",
       "      <td>Arrest - other violation/crime</td>\n",
       "      <td>Substantiated (Command Discipline A)</td>\n",
       "    </tr>\n",
       "  </tbody>\n",
       "</table>\n",
       "<p>5 rows × 27 columns</p>\n",
       "</div>"
      ],
      "text/plain": [
       "   unique_mos_id first_name last_name command_now  shield_no  complaint_id  \\\n",
       "0          10004   Jonathan      Ruiz     078 PCT       8409         42835   \n",
       "1          10007       John     Sears     078 PCT       5952         24601   \n",
       "2          10007       John     Sears     078 PCT       5952         24601   \n",
       "3          10007       John     Sears     078 PCT       5952         26146   \n",
       "4          10009      Noemi    Sierra     078 PCT      24058         40253   \n",
       "\n",
       "   month_received  year_received  month_closed  year_closed  ...  \\\n",
       "0               7           2019             5         2020  ...   \n",
       "1              11           2011             8         2012  ...   \n",
       "2              11           2011             8         2012  ...   \n",
       "3               7           2012             9         2013  ...   \n",
       "4               8           2018             2         2019  ...   \n",
       "\n",
       "  mos_age_incident complainant_ethnicity complainant_gender  \\\n",
       "0               32                 Black             Female   \n",
       "1               24                 Black               Male   \n",
       "2               24                 Black               Male   \n",
       "3               25                 Black               Male   \n",
       "4               39                   NaN                NaN   \n",
       "\n",
       "  complainant_age_incident           fado_type                    allegation  \\\n",
       "0                     38.0  Abuse of Authority  Failure to provide RTKA card   \n",
       "1                     26.0         Discourtesy                        Action   \n",
       "2                     26.0  Offensive Language                          Race   \n",
       "3                     45.0  Abuse of Authority                      Question   \n",
       "4                     16.0               Force                Physical force   \n",
       "\n",
       "  precinct                                contact_reason  \\\n",
       "0     78.0                       Report-domestic dispute   \n",
       "1     67.0                              Moving violation   \n",
       "2     67.0                              Moving violation   \n",
       "3     67.0  PD suspected C/V of violation/crime - street   \n",
       "4     67.0                                Report-dispute   \n",
       "\n",
       "                outcome_description                         board_disposition  \n",
       "0  No arrest made or summons issued  Substantiated (Command Lvl Instructions)  \n",
       "1   Moving violation summons issued                   Substantiated (Charges)  \n",
       "2   Moving violation summons issued                   Substantiated (Charges)  \n",
       "3  No arrest made or summons issued                   Substantiated (Charges)  \n",
       "4    Arrest - other violation/crime      Substantiated (Command Discipline A)  \n",
       "\n",
       "[5 rows x 27 columns]"
      ]
     },
     "execution_count": 71,
     "metadata": {},
     "output_type": "execute_result"
    }
   ],
   "source": [
    "# read the data\n",
    "df = pd.read_csv('allegations.csv')\n",
    "original = df.copy()\n",
    "df.head()"
   ]
  },
  {
   "cell_type": "code",
   "execution_count": 72,
   "metadata": {},
   "outputs": [],
   "source": [
    "#basic data cleaning\n",
    "df['complainant_ethnicity'] = df['complainant_ethnicity'].replace({'Unknown': np.NaN, 'Refused': np.NaN})\n",
    "df['complainant_gender']= df['complainant_gender'].apply(lambda x: np.nan if (x == 'Gender non-conforming') else x)\n",
    "df['complainant_gender']= df['complainant_gender'].apply(lambda x: np.nan if (x == 'Not described') else x)\n",
    "df['complainant_gender'] = df['complainant_gender'].replace({'Transman (FTM)': 'Male','Transwoman (MTF)': 'Female'})\n",
    "df['mos_gender'] = df['mos_gender'].replace({'M': 'Male','F': 'Female'})"
   ]
  },
  {
   "cell_type": "code",
   "execution_count": 73,
   "metadata": {},
   "outputs": [
    {
     "data": {
      "text/html": [
       "<div>\n",
       "<style scoped>\n",
       "    .dataframe tbody tr th:only-of-type {\n",
       "        vertical-align: middle;\n",
       "    }\n",
       "\n",
       "    .dataframe tbody tr th {\n",
       "        vertical-align: top;\n",
       "    }\n",
       "\n",
       "    .dataframe thead th {\n",
       "        text-align: right;\n",
       "    }\n",
       "</style>\n",
       "<table border=\"1\" class=\"dataframe\">\n",
       "  <thead>\n",
       "    <tr style=\"text-align: right;\">\n",
       "      <th></th>\n",
       "      <th>unique_mos_id</th>\n",
       "      <th>first_name</th>\n",
       "      <th>last_name</th>\n",
       "      <th>command_now</th>\n",
       "      <th>shield_no</th>\n",
       "      <th>complaint_id</th>\n",
       "      <th>month_received</th>\n",
       "      <th>year_received</th>\n",
       "      <th>month_closed</th>\n",
       "      <th>year_closed</th>\n",
       "      <th>...</th>\n",
       "      <th>mos_age_incident</th>\n",
       "      <th>complainant_ethnicity</th>\n",
       "      <th>complainant_gender</th>\n",
       "      <th>complainant_age_incident</th>\n",
       "      <th>fado_type</th>\n",
       "      <th>allegation</th>\n",
       "      <th>precinct</th>\n",
       "      <th>contact_reason</th>\n",
       "      <th>outcome_description</th>\n",
       "      <th>board_disposition</th>\n",
       "    </tr>\n",
       "  </thead>\n",
       "  <tbody>\n",
       "    <tr>\n",
       "      <th>0</th>\n",
       "      <td>10004</td>\n",
       "      <td>Jonathan</td>\n",
       "      <td>Ruiz</td>\n",
       "      <td>078 PCT</td>\n",
       "      <td>8409</td>\n",
       "      <td>42835</td>\n",
       "      <td>7</td>\n",
       "      <td>2019</td>\n",
       "      <td>5</td>\n",
       "      <td>2020</td>\n",
       "      <td>...</td>\n",
       "      <td>32</td>\n",
       "      <td>Black</td>\n",
       "      <td>Female</td>\n",
       "      <td>38.0</td>\n",
       "      <td>Abuse of Authority</td>\n",
       "      <td>Failure to provide RTKA card</td>\n",
       "      <td>78.0</td>\n",
       "      <td>Report-domestic dispute</td>\n",
       "      <td>No arrest made or summons issued</td>\n",
       "      <td>True</td>\n",
       "    </tr>\n",
       "    <tr>\n",
       "      <th>1</th>\n",
       "      <td>10007</td>\n",
       "      <td>John</td>\n",
       "      <td>Sears</td>\n",
       "      <td>078 PCT</td>\n",
       "      <td>5952</td>\n",
       "      <td>24601</td>\n",
       "      <td>11</td>\n",
       "      <td>2011</td>\n",
       "      <td>8</td>\n",
       "      <td>2012</td>\n",
       "      <td>...</td>\n",
       "      <td>24</td>\n",
       "      <td>Black</td>\n",
       "      <td>Male</td>\n",
       "      <td>26.0</td>\n",
       "      <td>Discourtesy</td>\n",
       "      <td>Action</td>\n",
       "      <td>67.0</td>\n",
       "      <td>Moving violation</td>\n",
       "      <td>Moving violation summons issued</td>\n",
       "      <td>True</td>\n",
       "    </tr>\n",
       "    <tr>\n",
       "      <th>2</th>\n",
       "      <td>10007</td>\n",
       "      <td>John</td>\n",
       "      <td>Sears</td>\n",
       "      <td>078 PCT</td>\n",
       "      <td>5952</td>\n",
       "      <td>24601</td>\n",
       "      <td>11</td>\n",
       "      <td>2011</td>\n",
       "      <td>8</td>\n",
       "      <td>2012</td>\n",
       "      <td>...</td>\n",
       "      <td>24</td>\n",
       "      <td>Black</td>\n",
       "      <td>Male</td>\n",
       "      <td>26.0</td>\n",
       "      <td>Offensive Language</td>\n",
       "      <td>Race</td>\n",
       "      <td>67.0</td>\n",
       "      <td>Moving violation</td>\n",
       "      <td>Moving violation summons issued</td>\n",
       "      <td>True</td>\n",
       "    </tr>\n",
       "    <tr>\n",
       "      <th>3</th>\n",
       "      <td>10007</td>\n",
       "      <td>John</td>\n",
       "      <td>Sears</td>\n",
       "      <td>078 PCT</td>\n",
       "      <td>5952</td>\n",
       "      <td>26146</td>\n",
       "      <td>7</td>\n",
       "      <td>2012</td>\n",
       "      <td>9</td>\n",
       "      <td>2013</td>\n",
       "      <td>...</td>\n",
       "      <td>25</td>\n",
       "      <td>Black</td>\n",
       "      <td>Male</td>\n",
       "      <td>45.0</td>\n",
       "      <td>Abuse of Authority</td>\n",
       "      <td>Question</td>\n",
       "      <td>67.0</td>\n",
       "      <td>PD suspected C/V of violation/crime - street</td>\n",
       "      <td>No arrest made or summons issued</td>\n",
       "      <td>True</td>\n",
       "    </tr>\n",
       "    <tr>\n",
       "      <th>4</th>\n",
       "      <td>10009</td>\n",
       "      <td>Noemi</td>\n",
       "      <td>Sierra</td>\n",
       "      <td>078 PCT</td>\n",
       "      <td>24058</td>\n",
       "      <td>40253</td>\n",
       "      <td>8</td>\n",
       "      <td>2018</td>\n",
       "      <td>2</td>\n",
       "      <td>2019</td>\n",
       "      <td>...</td>\n",
       "      <td>39</td>\n",
       "      <td>NaN</td>\n",
       "      <td>NaN</td>\n",
       "      <td>16.0</td>\n",
       "      <td>Force</td>\n",
       "      <td>Physical force</td>\n",
       "      <td>67.0</td>\n",
       "      <td>Report-dispute</td>\n",
       "      <td>Arrest - other violation/crime</td>\n",
       "      <td>True</td>\n",
       "    </tr>\n",
       "  </tbody>\n",
       "</table>\n",
       "<p>5 rows × 27 columns</p>\n",
       "</div>"
      ],
      "text/plain": [
       "   unique_mos_id first_name last_name command_now  shield_no  complaint_id  \\\n",
       "0          10004   Jonathan      Ruiz     078 PCT       8409         42835   \n",
       "1          10007       John     Sears     078 PCT       5952         24601   \n",
       "2          10007       John     Sears     078 PCT       5952         24601   \n",
       "3          10007       John     Sears     078 PCT       5952         26146   \n",
       "4          10009      Noemi    Sierra     078 PCT      24058         40253   \n",
       "\n",
       "   month_received  year_received  month_closed  year_closed  ...  \\\n",
       "0               7           2019             5         2020  ...   \n",
       "1              11           2011             8         2012  ...   \n",
       "2              11           2011             8         2012  ...   \n",
       "3               7           2012             9         2013  ...   \n",
       "4               8           2018             2         2019  ...   \n",
       "\n",
       "  mos_age_incident complainant_ethnicity complainant_gender  \\\n",
       "0               32                 Black             Female   \n",
       "1               24                 Black               Male   \n",
       "2               24                 Black               Male   \n",
       "3               25                 Black               Male   \n",
       "4               39                   NaN                NaN   \n",
       "\n",
       "  complainant_age_incident           fado_type                    allegation  \\\n",
       "0                     38.0  Abuse of Authority  Failure to provide RTKA card   \n",
       "1                     26.0         Discourtesy                        Action   \n",
       "2                     26.0  Offensive Language                          Race   \n",
       "3                     45.0  Abuse of Authority                      Question   \n",
       "4                     16.0               Force                Physical force   \n",
       "\n",
       "  precinct                                contact_reason  \\\n",
       "0     78.0                       Report-domestic dispute   \n",
       "1     67.0                              Moving violation   \n",
       "2     67.0                              Moving violation   \n",
       "3     67.0  PD suspected C/V of violation/crime - street   \n",
       "4     67.0                                Report-dispute   \n",
       "\n",
       "                outcome_description board_disposition  \n",
       "0  No arrest made or summons issued              True  \n",
       "1   Moving violation summons issued              True  \n",
       "2   Moving violation summons issued              True  \n",
       "3  No arrest made or summons issued              True  \n",
       "4    Arrest - other violation/crime              True  \n",
       "\n",
       "[5 rows x 27 columns]"
      ]
     },
     "execution_count": 73,
     "metadata": {},
     "output_type": "execute_result"
    }
   ],
   "source": [
    "# we clean the outcomes of allegation, change the unique outcomes to two\n",
    "df['board_disposition'] = df['board_disposition'].str.contains('Unsubstantiated')\n",
    "#True for happened, False for not happended\n",
    "df['board_disposition'] = df['board_disposition'].replace({True: False, False: True})\n",
    "#data after basic cleaning\n",
    "df.head()"
   ]
  },
  {
   "cell_type": "code",
   "execution_count": 74,
   "metadata": {},
   "outputs": [
    {
     "data": {
      "text/plain": [
       "True     17910\n",
       "False    15448\n",
       "Name: board_disposition, dtype: int64"
      ]
     },
     "execution_count": 74,
     "metadata": {},
     "output_type": "execute_result"
    }
   ],
   "source": [
    "# we can see that the distribution is balanced. So we choose accuracy as out statistics.\n",
    "df['board_disposition'].value_counts()"
   ]
  },
  {
   "cell_type": "markdown",
   "metadata": {},
   "source": [
    "## First, we select few useful variables in our table that may help our predictions.\n",
    "- `fado_type` may be helpful: There might be certain types of the allegations that happen most common. So including `fado_type` might be significant in finding the certain types allegations did happen or not.\n",
    "- `complainant_gender` and `mos_gender` may also be helpful since it's possible that female officers or male officers might be more likely to make mistakes. Also female complainant might be more likely to report allegation that did happened since female could suffer from gender discrimination more.\n",
    "- `mos_age_incident` and `complainant_age_incident` are included because maybe younger officers are more likely to make mistakes so their cases are more likely to be substantiated. "
   ]
  },
  {
   "cell_type": "code",
   "execution_count": 75,
   "metadata": {},
   "outputs": [
    {
     "data": {
      "text/plain": [
       "['complainant_gender', 'complainant_age_incident']"
      ]
     },
     "execution_count": 75,
     "metadata": {},
     "output_type": "execute_result"
    }
   ],
   "source": [
    "# we extract the features column that we need\n",
    "features_df = df[['fado_type',\n",
    "                  'complainant_gender',\n",
    "                  'mos_gender',\n",
    "                  'mos_age_incident',\n",
    "                  'complainant_age_incident',\n",
    "                  'board_disposition']]\n",
    "# check if board_disposition contains any na\n",
    "features_df.columns[features_df.isna().any()].tolist()"
   ]
  },
  {
   "cell_type": "markdown",
   "metadata": {},
   "source": [
    "##### Here we see board_disposition doesn't contain any null value in the outcome column, but there are other feature contains. We will deal with them later."
   ]
  },
  {
   "cell_type": "code",
   "execution_count": 76,
   "metadata": {},
   "outputs": [],
   "source": [
    "# we will perform train test split.\n",
    "X = features_df.drop('board_disposition', axis = 1)\n",
    "y = features_df['board_disposition']\n",
    "X_train, X_test, y_train, y_test = train_test_split(X, y, test_size = 0.3)\n"
   ]
  },
  {
   "cell_type": "markdown",
   "metadata": {},
   "source": [
    "### Baseline Model\n",
    "##### We need to deal with missing values in the features. Here we perform imputation using SimpleImputer from sklearn, then we perform some basic onehot encoding."
   ]
  },
  {
   "cell_type": "code",
   "execution_count": 77,
   "metadata": {},
   "outputs": [],
   "source": [
    "#categorical feature, we fill in with the most frequent one\n",
    "features_cat = ['complainant_gender']\n",
    "imp1 = SimpleImputer(strategy='most_frequent')\n",
    "pl1 = Pipeline(steps = [\n",
    "    ('fill_missing', imp1),\n",
    "    ('oh', OneHotEncoder())\n",
    "])\n",
    "\n",
    "#numerical feature, we fill in with the mean\n",
    "features_num = ['complainant_age_incident']\n",
    "imp2 = SimpleImputer(strategy='mean')\n",
    "pl2 = Pipeline(steps = [\n",
    "    ('fill_missing', imp2)\n",
    "])\n",
    "\n",
    "#one hot encoding for categorical features\n",
    "features_oh = ['fado_type','mos_gender']\n",
    "pl3 = Pipeline(steps = [\n",
    "    ('oh', OneHotEncoder())\n",
    "])\n",
    "\n",
    "trans1 = ColumnTransformer(\n",
    "    transformers = [\n",
    "        ('cat1', pl1, features_cat),\n",
    "        ('cat2', pl2, features_num),\n",
    "        ('cat3', pl3, features_oh)], remainder = 'passthrough'\n",
    ")\n",
    "\n",
    "result_pl1 = Pipeline([\n",
    "    ('col_trans', trans1),\n",
    "    (\"classifier\", DecisionTreeClassifier())\n",
    "])"
   ]
  },
  {
   "cell_type": "code",
   "execution_count": 78,
   "metadata": {},
   "outputs": [
    {
     "data": {
      "text/plain": [
       "Pipeline(steps=[('col_trans',\n",
       "                 ColumnTransformer(remainder='passthrough',\n",
       "                                   transformers=[('cat1',\n",
       "                                                  Pipeline(steps=[('fill_missing',\n",
       "                                                                   SimpleImputer(strategy='most_frequent')),\n",
       "                                                                  ('oh',\n",
       "                                                                   OneHotEncoder())]),\n",
       "                                                  ['complainant_gender']),\n",
       "                                                 ('cat2',\n",
       "                                                  Pipeline(steps=[('fill_missing',\n",
       "                                                                   SimpleImputer())]),\n",
       "                                                  ['complainant_age_incident']),\n",
       "                                                 ('cat3',\n",
       "                                                  Pipeline(steps=[('oh',\n",
       "                                                                   OneHotEncoder())]),\n",
       "                                                  ['fado_type',\n",
       "                                                   'mos_gender'])])),\n",
       "                ('classifier', DecisionTreeClassifier())])"
      ]
     },
     "execution_count": 78,
     "metadata": {},
     "output_type": "execute_result"
    }
   ],
   "source": [
    "# fit \n",
    "result_pl1.fit(X_train, y_train)"
   ]
  },
  {
   "cell_type": "code",
   "execution_count": 79,
   "metadata": {},
   "outputs": [],
   "source": [
    "# Model to predict the test\n",
    "pred_test = result_pl1.predict(X_test)\n",
    "pred_test\n",
    "pred_train = result_pl1.predict(X_train)\n"
   ]
  },
  {
   "cell_type": "code",
   "execution_count": 80,
   "metadata": {},
   "outputs": [
    {
     "data": {
      "text/plain": [
       "0.7326338329764454"
      ]
     },
     "execution_count": 80,
     "metadata": {},
     "output_type": "execute_result"
    }
   ],
   "source": [
    "# Model accuracy in our train set\n",
    "metrics.accuracy_score(y_train, pred_train)"
   ]
  },
  {
   "cell_type": "code",
   "execution_count": 81,
   "metadata": {},
   "outputs": [
    {
     "data": {
      "text/plain": [
       "0.5860311750599521"
      ]
     },
     "execution_count": 81,
     "metadata": {},
     "output_type": "execute_result"
    }
   ],
   "source": [
    "# Model accuracy in our test set\n",
    "metrics.accuracy_score(y_test, pred_test)"
   ]
  },
  {
   "cell_type": "markdown",
   "metadata": {},
   "source": [
    "The accuracy for train data is around 73.3%. For test data is around 58.6%, so we are underfitting. The baseline model is not good enough, as we only predict correctly for 6 times out of 10 for unseend data.\n",
    "So we continue to improve it."
   ]
  },
  {
   "cell_type": "markdown",
   "metadata": {},
   "source": [
    "### Second Model\n",
    "##### Because we are underfitting, we re-exam the data. We found that maybe outcome_description and rank_incident can be useful features because it is related to the outcome."
   ]
  },
  {
   "cell_type": "code",
   "execution_count": 82,
   "metadata": {},
   "outputs": [
    {
     "data": {
      "text/plain": [
       "<AxesSubplot:xlabel='rank_incident', ylabel='count'>"
      ]
     },
     "execution_count": 82,
     "metadata": {},
     "output_type": "execute_result"
    },
    {
     "data": {
      "image/png": "[encoded data removed]",
      "text/plain": [
       "<Figure size 432x288 with 1 Axes>"
      ]
     },
     "metadata": {
      "image/png": {
       "height": 262,
       "width": 437
      },
      "needs_background": "light"
     },
     "output_type": "display_data"
    }
   ],
   "source": [
    "# We check the distrbiution of rank_incident, and we see that there are slightly different for different board_disposition\n",
    "# Maybe we can add this feature to improve our model. \n",
    "sns.countplot(x=\"rank_incident\",hue = 'board_disposition',data=df)"
   ]
  },
  {
   "cell_type": "code",
   "execution_count": 83,
   "metadata": {},
   "outputs": [
    {
     "data": {
      "text/html": [
       "<div>\n",
       "<style scoped>\n",
       "    .dataframe tbody tr th:only-of-type {\n",
       "        vertical-align: middle;\n",
       "    }\n",
       "\n",
       "    .dataframe tbody tr th {\n",
       "        vertical-align: top;\n",
       "    }\n",
       "\n",
       "    .dataframe thead tr th {\n",
       "        text-align: left;\n",
       "    }\n",
       "\n",
       "    .dataframe thead tr:last-of-type th {\n",
       "        text-align: right;\n",
       "    }\n",
       "</style>\n",
       "<table border=\"1\" class=\"dataframe\">\n",
       "  <thead>\n",
       "    <tr>\n",
       "      <th></th>\n",
       "      <th colspan=\"10\" halign=\"left\">allegation</th>\n",
       "      <th>...</th>\n",
       "      <th colspan=\"10\" halign=\"left\">year_received</th>\n",
       "    </tr>\n",
       "    <tr>\n",
       "      <th>outcome_description</th>\n",
       "      <th>Arrest - OGA</th>\n",
       "      <th>Arrest - assault (against a PO)</th>\n",
       "      <th>Arrest - disorderly conduct</th>\n",
       "      <th>Arrest - harrassment (against a PO)</th>\n",
       "      <th>Arrest - other violation/crime</th>\n",
       "      <th>Arrest - resisting arrest</th>\n",
       "      <th>Arrest on Other Charge</th>\n",
       "      <th>Assault/Arrested</th>\n",
       "      <th>Disorderly-Conduct/Arr/Summons</th>\n",
       "      <th>Harrassment/Arrested/Summons</th>\n",
       "      <th>...</th>\n",
       "      <th>Obstruct-Govt-Admin/Arrested</th>\n",
       "      <th>Other Summons Claimed or Issued</th>\n",
       "      <th>Other VTL violation summons issued</th>\n",
       "      <th>Parking summons issued</th>\n",
       "      <th>Resisting Arrest/Arrested</th>\n",
       "      <th>Summons - OGA</th>\n",
       "      <th>Summons - disorderly conduct</th>\n",
       "      <th>Summons - harrassment (against a PO)</th>\n",
       "      <th>Summons - other violation/crime</th>\n",
       "      <th>Traffic Summons Claimed or Issued</th>\n",
       "    </tr>\n",
       "    <tr>\n",
       "      <th>board_disposition</th>\n",
       "      <th></th>\n",
       "      <th></th>\n",
       "      <th></th>\n",
       "      <th></th>\n",
       "      <th></th>\n",
       "      <th></th>\n",
       "      <th></th>\n",
       "      <th></th>\n",
       "      <th></th>\n",
       "      <th></th>\n",
       "      <th></th>\n",
       "      <th></th>\n",
       "      <th></th>\n",
       "      <th></th>\n",
       "      <th></th>\n",
       "      <th></th>\n",
       "      <th></th>\n",
       "      <th></th>\n",
       "      <th></th>\n",
       "      <th></th>\n",
       "      <th></th>\n",
       "    </tr>\n",
       "  </thead>\n",
       "  <tbody>\n",
       "    <tr>\n",
       "      <th>False</th>\n",
       "      <td>293.0</td>\n",
       "      <td>371.0</td>\n",
       "      <td>455.0</td>\n",
       "      <td>6.0</td>\n",
       "      <td>4931.0</td>\n",
       "      <td>679.0</td>\n",
       "      <td>60.0</td>\n",
       "      <td>25.0</td>\n",
       "      <td>85.0</td>\n",
       "      <td>3.0</td>\n",
       "      <td>...</td>\n",
       "      <td>7.0</td>\n",
       "      <td>19.0</td>\n",
       "      <td>234.0</td>\n",
       "      <td>131.0</td>\n",
       "      <td>16.0</td>\n",
       "      <td>NaN</td>\n",
       "      <td>1031.0</td>\n",
       "      <td>4.0</td>\n",
       "      <td>845.0</td>\n",
       "      <td>35.0</td>\n",
       "    </tr>\n",
       "    <tr>\n",
       "      <th>True</th>\n",
       "      <td>356.0</td>\n",
       "      <td>481.0</td>\n",
       "      <td>558.0</td>\n",
       "      <td>9.0</td>\n",
       "      <td>5265.0</td>\n",
       "      <td>914.0</td>\n",
       "      <td>21.0</td>\n",
       "      <td>9.0</td>\n",
       "      <td>52.0</td>\n",
       "      <td>5.0</td>\n",
       "      <td>...</td>\n",
       "      <td>3.0</td>\n",
       "      <td>19.0</td>\n",
       "      <td>297.0</td>\n",
       "      <td>148.0</td>\n",
       "      <td>9.0</td>\n",
       "      <td>1.0</td>\n",
       "      <td>1087.0</td>\n",
       "      <td>1.0</td>\n",
       "      <td>1095.0</td>\n",
       "      <td>24.0</td>\n",
       "    </tr>\n",
       "  </tbody>\n",
       "</table>\n",
       "<p>2 rows × 575 columns</p>\n",
       "</div>"
      ],
      "text/plain": [
       "                      allegation                                  \\\n",
       "outcome_description Arrest - OGA Arrest - assault (against a PO)   \n",
       "board_disposition                                                  \n",
       "False                      293.0                           371.0   \n",
       "True                       356.0                           481.0   \n",
       "\n",
       "                                                 \\\n",
       "outcome_description Arrest - disorderly conduct   \n",
       "board_disposition                                 \n",
       "False                                     455.0   \n",
       "True                                      558.0   \n",
       "\n",
       "                                                         \\\n",
       "outcome_description Arrest - harrassment (against a PO)   \n",
       "board_disposition                                         \n",
       "False                                               6.0   \n",
       "True                                                9.0   \n",
       "\n",
       "                                                                              \\\n",
       "outcome_description Arrest - other violation/crime Arrest - resisting arrest   \n",
       "board_disposition                                                              \n",
       "False                                       4931.0                     679.0   \n",
       "True                                        5265.0                     914.0   \n",
       "\n",
       "                                                             \\\n",
       "outcome_description Arrest on Other Charge Assault/Arrested   \n",
       "board_disposition                                             \n",
       "False                                 60.0             25.0   \n",
       "True                                  21.0              9.0   \n",
       "\n",
       "                                                    \\\n",
       "outcome_description Disorderly-Conduct/Arr/Summons   \n",
       "board_disposition                                    \n",
       "False                                         85.0   \n",
       "True                                          52.0   \n",
       "\n",
       "                                                  ...  \\\n",
       "outcome_description Harrassment/Arrested/Summons  ...   \n",
       "board_disposition                                 ...   \n",
       "False                                        3.0  ...   \n",
       "True                                         5.0  ...   \n",
       "\n",
       "                                   year_received  \\\n",
       "outcome_description Obstruct-Govt-Admin/Arrested   \n",
       "board_disposition                                  \n",
       "False                                        7.0   \n",
       "True                                         3.0   \n",
       "\n",
       "                                                     \\\n",
       "outcome_description Other Summons Claimed or Issued   \n",
       "board_disposition                                     \n",
       "False                                          19.0   \n",
       "True                                           19.0   \n",
       "\n",
       "                                                                               \\\n",
       "outcome_description Other VTL violation summons issued Parking summons issued   \n",
       "board_disposition                                                               \n",
       "False                                            234.0                  131.0   \n",
       "True                                             297.0                  148.0   \n",
       "\n",
       "                                                             \\\n",
       "outcome_description Resisting Arrest/Arrested Summons - OGA   \n",
       "board_disposition                                             \n",
       "False                                    16.0           NaN   \n",
       "True                                      9.0           1.0   \n",
       "\n",
       "                                                  \\\n",
       "outcome_description Summons - disorderly conduct   \n",
       "board_disposition                                  \n",
       "False                                     1031.0   \n",
       "True                                      1087.0   \n",
       "\n",
       "                                                          \\\n",
       "outcome_description Summons - harrassment (against a PO)   \n",
       "board_disposition                                          \n",
       "False                                                4.0   \n",
       "True                                                 1.0   \n",
       "\n",
       "                                                     \\\n",
       "outcome_description Summons - other violation/crime   \n",
       "board_disposition                                     \n",
       "False                                         845.0   \n",
       "True                                         1095.0   \n",
       "\n",
       "                                                       \n",
       "outcome_description Traffic Summons Claimed or Issued  \n",
       "board_disposition                                      \n",
       "False                                            35.0  \n",
       "True                                             24.0  \n",
       "\n",
       "[2 rows x 575 columns]"
      ]
     },
     "execution_count": 83,
     "metadata": {},
     "output_type": "execute_result"
    }
   ],
   "source": [
    "# We check another feature : outcome_description, which is how the complainant descirbe the case. And we use pivot table\n",
    "# to see the distribution. It's seems that the distribution for true and false board_disposition is different. Maybe we can\n",
    "# add it to model to improve the score.\n",
    "pd.pivot_table(df, index = 'board_disposition', columns = 'outcome_description', aggfunc = 'count')"
   ]
  },
  {
   "cell_type": "code",
   "execution_count": 84,
   "metadata": {},
   "outputs": [
    {
     "data": {
      "text/plain": [
       "['complainant_gender', 'complainant_age_incident', 'outcome_description']"
      ]
     },
     "execution_count": 84,
     "metadata": {},
     "output_type": "execute_result"
    }
   ],
   "source": [
    "# We extract the features column that we need.\n",
    "features_df = df[['fado_type',\n",
    "                  'complainant_gender',\n",
    "                  'mos_gender',\n",
    "                  'mos_age_incident',\n",
    "                  'complainant_age_incident',\n",
    "                  'rank_incident',\n",
    "                  'outcome_description',\n",
    "                  'board_disposition']]\n",
    "# check if contains any na\n",
    "features_df.columns[features_df.isna().any()].tolist()"
   ]
  },
  {
   "cell_type": "code",
   "execution_count": 120,
   "metadata": {},
   "outputs": [],
   "source": [
    "# We will perform train test split.\n",
    "X = features_df.drop('board_disposition', axis = 1)\n",
    "y = features_df['board_disposition']\n",
    "X_train, X_test, y_train, y_test = train_test_split(X, y, test_size = 0.3)"
   ]
  },
  {
   "cell_type": "code",
   "execution_count": 86,
   "metadata": {},
   "outputs": [],
   "source": [
    "# For categorical features, we just fill in with the most frequent one\n",
    "features_cat = ['complainant_gender','outcome_description']\n",
    "imp1 = SimpleImputer(strategy='most_frequent')\n",
    "pl1 = Pipeline(steps = [\n",
    "    ('fill_missing', imp1),\n",
    "    ('oh', OneHotEncoder())\n",
    "])\n",
    "# For numerical feature, we just fill in with the mean\n",
    "features_num = ['complainant_age_incident']\n",
    "imp2 = SimpleImputer(strategy='mean')\n",
    "pl2 = Pipeline(steps = [\n",
    "    ('fill_missing', imp2)\n",
    "])\n",
    "\n",
    "# one-hot encoding\n",
    "features_oh = ['fado_type','mos_gender','rank_incident']\n",
    "pl3 = Pipeline(steps = [\n",
    "    ('oh', OneHotEncoder())\n",
    "])\n",
    "\n",
    "trans2 = ColumnTransformer(\n",
    "    transformers = [\n",
    "        ('cat1', pl1, features_cat),\n",
    "        ('cat2', pl2, features_num),\n",
    "        ('cat3', pl3, features_oh)], remainder = 'passthrough'\n",
    ")\n",
    "result_pl2 = Pipeline([\n",
    "    ('col_trans', trans2),\n",
    "    (\"classifier\", DecisionTreeClassifier())\n",
    "])"
   ]
  },
  {
   "cell_type": "code",
   "execution_count": 87,
   "metadata": {},
   "outputs": [
    {
     "data": {
      "text/plain": [
       "Pipeline(steps=[('col_trans',\n",
       "                 ColumnTransformer(remainder='passthrough',\n",
       "                                   transformers=[('cat1',\n",
       "                                                  Pipeline(steps=[('fill_missing',\n",
       "                                                                   SimpleImputer(strategy='most_frequent')),\n",
       "                                                                  ('oh',\n",
       "                                                                   OneHotEncoder())]),\n",
       "                                                  ['complainant_gender',\n",
       "                                                   'outcome_description']),\n",
       "                                                 ('cat2',\n",
       "                                                  Pipeline(steps=[('fill_missing',\n",
       "                                                                   SimpleImputer())]),\n",
       "                                                  ['complainant_age_incident']),\n",
       "                                                 ('cat3',\n",
       "                                                  Pipeline(steps=[('oh',\n",
       "                                                                   OneHotEncoder())]),\n",
       "                                                  ['fado_type', 'mos_gender',\n",
       "                                                   'rank_incident'])])),\n",
       "                ('classifier', DecisionTreeClassifier())])"
      ]
     },
     "execution_count": 87,
     "metadata": {},
     "output_type": "execute_result"
    }
   ],
   "source": [
    "# fit \n",
    "result_pl2.fit(X_train, y_train)"
   ]
  },
  {
   "cell_type": "code",
   "execution_count": 88,
   "metadata": {},
   "outputs": [
    {
     "data": {
      "text/plain": [
       "array([ True,  True,  True, ..., False,  True, False])"
      ]
     },
     "execution_count": 88,
     "metadata": {},
     "output_type": "execute_result"
    }
   ],
   "source": [
    "# Model to predict the test\n",
    "pred = result_pl2.predict(X_test)\n",
    "pred"
   ]
  },
  {
   "cell_type": "code",
   "execution_count": 89,
   "metadata": {},
   "outputs": [
    {
     "data": {
      "text/plain": [
       "0.6058153477218226"
      ]
     },
     "execution_count": 89,
     "metadata": {},
     "output_type": "execute_result"
    }
   ],
   "source": [
    "# Model Accuracy in the test set\n",
    "metrics.accuracy_score(y_test, pred)"
   ]
  },
  {
   "cell_type": "markdown",
   "metadata": {},
   "source": [
    "### Third model\n",
    "#### Observe and manipulate numerical features: eliminate extreme values in age and use standard scalar for the age columns."
   ]
  },
  {
   "cell_type": "code",
   "execution_count": 121,
   "metadata": {},
   "outputs": [
    {
     "data": {
      "text/html": [
       "<div>\n",
       "<style scoped>\n",
       "    .dataframe tbody tr th:only-of-type {\n",
       "        vertical-align: middle;\n",
       "    }\n",
       "\n",
       "    .dataframe tbody tr th {\n",
       "        vertical-align: top;\n",
       "    }\n",
       "\n",
       "    .dataframe thead th {\n",
       "        text-align: right;\n",
       "    }\n",
       "</style>\n",
       "<table border=\"1\" class=\"dataframe\">\n",
       "  <thead>\n",
       "    <tr style=\"text-align: right;\">\n",
       "      <th></th>\n",
       "      <th>unique_mos_id</th>\n",
       "      <th>first_name</th>\n",
       "      <th>last_name</th>\n",
       "      <th>command_now</th>\n",
       "      <th>shield_no</th>\n",
       "      <th>complaint_id</th>\n",
       "      <th>month_received</th>\n",
       "      <th>year_received</th>\n",
       "      <th>month_closed</th>\n",
       "      <th>year_closed</th>\n",
       "      <th>...</th>\n",
       "      <th>mos_age_incident</th>\n",
       "      <th>complainant_ethnicity</th>\n",
       "      <th>complainant_gender</th>\n",
       "      <th>complainant_age_incident</th>\n",
       "      <th>fado_type</th>\n",
       "      <th>allegation</th>\n",
       "      <th>precinct</th>\n",
       "      <th>contact_reason</th>\n",
       "      <th>outcome_description</th>\n",
       "      <th>board_disposition</th>\n",
       "    </tr>\n",
       "  </thead>\n",
       "  <tbody>\n",
       "    <tr>\n",
       "      <th>3594</th>\n",
       "      <td>14714</td>\n",
       "      <td>Osvaldo</td>\n",
       "      <td>Nunez</td>\n",
       "      <td>114 PCT</td>\n",
       "      <td>0</td>\n",
       "      <td>12410</td>\n",
       "      <td>11</td>\n",
       "      <td>2006</td>\n",
       "      <td>2</td>\n",
       "      <td>2008</td>\n",
       "      <td>...</td>\n",
       "      <td>32</td>\n",
       "      <td>Black</td>\n",
       "      <td>Male</td>\n",
       "      <td>0.0</td>\n",
       "      <td>Force</td>\n",
       "      <td>Nightstick as club (incl asp &amp; baton)</td>\n",
       "      <td>44.0</td>\n",
       "      <td>PD suspected C/V of violation/crime - street</td>\n",
       "      <td>Summons - disorderly conduct</td>\n",
       "      <td>False</td>\n",
       "    </tr>\n",
       "    <tr>\n",
       "      <th>4393</th>\n",
       "      <td>15684</td>\n",
       "      <td>Thomas</td>\n",
       "      <td>Leonardo</td>\n",
       "      <td>122 PCT</td>\n",
       "      <td>2977</td>\n",
       "      <td>37891</td>\n",
       "      <td>8</td>\n",
       "      <td>2017</td>\n",
       "      <td>4</td>\n",
       "      <td>2018</td>\n",
       "      <td>...</td>\n",
       "      <td>28</td>\n",
       "      <td>Asian</td>\n",
       "      <td>Female</td>\n",
       "      <td>-1.0</td>\n",
       "      <td>Abuse of Authority</td>\n",
       "      <td>Refusal to provide name/shield number</td>\n",
       "      <td>122.0</td>\n",
       "      <td>Traffic accident</td>\n",
       "      <td>No arrest made or summons issued</td>\n",
       "      <td>True</td>\n",
       "    </tr>\n",
       "    <tr>\n",
       "      <th>6981</th>\n",
       "      <td>18532</td>\n",
       "      <td>Michael</td>\n",
       "      <td>Windsor</td>\n",
       "      <td>DB BNHM</td>\n",
       "      <td>5648</td>\n",
       "      <td>3711</td>\n",
       "      <td>4</td>\n",
       "      <td>1999</td>\n",
       "      <td>3</td>\n",
       "      <td>2000</td>\n",
       "      <td>...</td>\n",
       "      <td>34</td>\n",
       "      <td>Black</td>\n",
       "      <td>Male</td>\n",
       "      <td>-1.0</td>\n",
       "      <td>Force</td>\n",
       "      <td>Physical force</td>\n",
       "      <td>77.0</td>\n",
       "      <td>NaN</td>\n",
       "      <td>No arrest made or summons issued</td>\n",
       "      <td>True</td>\n",
       "    </tr>\n",
       "    <tr>\n",
       "      <th>10274</th>\n",
       "      <td>20185</td>\n",
       "      <td>Joseph</td>\n",
       "      <td>Delre</td>\n",
       "      <td>ESS 06</td>\n",
       "      <td>4730</td>\n",
       "      <td>4196</td>\n",
       "      <td>3</td>\n",
       "      <td>2000</td>\n",
       "      <td>10</td>\n",
       "      <td>2000</td>\n",
       "      <td>...</td>\n",
       "      <td>30</td>\n",
       "      <td>NaN</td>\n",
       "      <td>Male</td>\n",
       "      <td>-4301.0</td>\n",
       "      <td>Discourtesy</td>\n",
       "      <td>Word</td>\n",
       "      <td>72.0</td>\n",
       "      <td>Other</td>\n",
       "      <td>Parking summons issued</td>\n",
       "      <td>False</td>\n",
       "    </tr>\n",
       "    <tr>\n",
       "      <th>17241</th>\n",
       "      <td>25326</td>\n",
       "      <td>Katrina</td>\n",
       "      <td>Forrester</td>\n",
       "      <td>NARCBBS</td>\n",
       "      <td>3529</td>\n",
       "      <td>32671</td>\n",
       "      <td>5</td>\n",
       "      <td>2015</td>\n",
       "      <td>10</td>\n",
       "      <td>2015</td>\n",
       "      <td>...</td>\n",
       "      <td>42</td>\n",
       "      <td>Black</td>\n",
       "      <td>Female</td>\n",
       "      <td>-1.0</td>\n",
       "      <td>Abuse of Authority</td>\n",
       "      <td>Refusal to show search warrant</td>\n",
       "      <td>67.0</td>\n",
       "      <td>Execution of search warrant</td>\n",
       "      <td>Arrest - other violation/crime</td>\n",
       "      <td>False</td>\n",
       "    </tr>\n",
       "  </tbody>\n",
       "</table>\n",
       "<p>5 rows × 27 columns</p>\n",
       "</div>"
      ],
      "text/plain": [
       "       unique_mos_id first_name  last_name command_now  shield_no  \\\n",
       "3594           14714    Osvaldo      Nunez     114 PCT          0   \n",
       "4393           15684     Thomas   Leonardo     122 PCT       2977   \n",
       "6981           18532    Michael    Windsor     DB BNHM       5648   \n",
       "10274          20185     Joseph      Delre      ESS 06       4730   \n",
       "17241          25326    Katrina  Forrester     NARCBBS       3529   \n",
       "\n",
       "       complaint_id  month_received  year_received  month_closed  year_closed  \\\n",
       "3594          12410              11           2006             2         2008   \n",
       "4393          37891               8           2017             4         2018   \n",
       "6981           3711               4           1999             3         2000   \n",
       "10274          4196               3           2000            10         2000   \n",
       "17241         32671               5           2015            10         2015   \n",
       "\n",
       "       ... mos_age_incident complainant_ethnicity complainant_gender  \\\n",
       "3594   ...               32                 Black               Male   \n",
       "4393   ...               28                 Asian             Female   \n",
       "6981   ...               34                 Black               Male   \n",
       "10274  ...               30                   NaN               Male   \n",
       "17241  ...               42                 Black             Female   \n",
       "\n",
       "      complainant_age_incident           fado_type  \\\n",
       "3594                       0.0               Force   \n",
       "4393                      -1.0  Abuse of Authority   \n",
       "6981                      -1.0               Force   \n",
       "10274                  -4301.0         Discourtesy   \n",
       "17241                     -1.0  Abuse of Authority   \n",
       "\n",
       "                                  allegation precinct  \\\n",
       "3594   Nightstick as club (incl asp & baton)     44.0   \n",
       "4393   Refusal to provide name/shield number    122.0   \n",
       "6981                          Physical force     77.0   \n",
       "10274                                   Word     72.0   \n",
       "17241         Refusal to show search warrant     67.0   \n",
       "\n",
       "                                     contact_reason  \\\n",
       "3594   PD suspected C/V of violation/crime - street   \n",
       "4393                               Traffic accident   \n",
       "6981                                            NaN   \n",
       "10274                                         Other   \n",
       "17241                   Execution of search warrant   \n",
       "\n",
       "                    outcome_description board_disposition  \n",
       "3594       Summons - disorderly conduct             False  \n",
       "4393   No arrest made or summons issued              True  \n",
       "6981   No arrest made or summons issued              True  \n",
       "10274            Parking summons issued             False  \n",
       "17241    Arrest - other violation/crime             False  \n",
       "\n",
       "[5 rows x 27 columns]"
      ]
     },
     "execution_count": 121,
     "metadata": {},
     "output_type": "execute_result"
    }
   ],
   "source": [
    "df[df['complainant_age_incident'] <= 0].head()"
   ]
  },
  {
   "cell_type": "markdown",
   "metadata": {},
   "source": [
    "From the above dataframe, we see that there are 8 ages that are 0 or even smaller than zero. However, no one can have \n",
    "an age smaller than 0. So we should fix it to improve the score."
   ]
  },
  {
   "cell_type": "code",
   "execution_count": 91,
   "metadata": {},
   "outputs": [],
   "source": [
    "# Categorical feature, we just fill in with the most frequent one\n",
    "features_cat = ['complainant_gender','outcome_description']\n",
    "\n",
    "imp1 = SimpleImputer(strategy='most_frequent')\n",
    "pl1 = Pipeline(steps = [\n",
    "    ('fill_missing', imp1),\n",
    "    ('oh', OneHotEncoder())\n",
    "])\n",
    "\n",
    "# Numerical feature\n",
    "features_num = ['complainant_age_incident']\n",
    "def change_to_null_if_under_zero(df):\n",
    "    df.loc[(df['complainant_age_incident'] <= 0), 'complainant_age_incident']= np.NaN\n",
    "    return df\n",
    "change = FunctionTransformer(change_to_null_if_under_zero)\n",
    "imp2 = SimpleImputer(strategy='mean')\n",
    "pl2 = Pipeline(steps = [\n",
    "    ('zero', change),\n",
    "    ('fill_missing', imp2),\n",
    "    ('std', StandardScaler())\n",
    "])\n",
    "\n",
    "\n",
    "features_oh = ['fado_type','mos_gender','rank_incident']\n",
    "\n",
    "\n",
    "pl3 = Pipeline(steps = [\n",
    "    ('oh', OneHotEncoder())\n",
    "])\n",
    "\n",
    "a = ['mos_age_incident']\n",
    "pl4 = Pipeline(steps = [\n",
    "    ('stdd', StandardScaler())\n",
    "])\n",
    "\n",
    "\n",
    "trans2 = ColumnTransformer(\n",
    "    transformers = [\n",
    "        ('cat1', pl1, features_cat),\n",
    "        ('cat2', pl2, features_num),\n",
    "        ('cat3', pl3, features_oh),\n",
    "        ('std11',pl4, a)]\n",
    ")\n",
    "result_pl3 = Pipeline([\n",
    "    ('col_trans', trans2),\n",
    "    (\"classifier\", DecisionTreeClassifier())\n",
    "])"
   ]
  },
  {
   "cell_type": "code",
   "execution_count": 92,
   "metadata": {},
   "outputs": [
    {
     "data": {
      "text/plain": [
       "Pipeline(steps=[('col_trans',\n",
       "                 ColumnTransformer(transformers=[('cat1',\n",
       "                                                  Pipeline(steps=[('fill_missing',\n",
       "                                                                   SimpleImputer(strategy='most_frequent')),\n",
       "                                                                  ('oh',\n",
       "                                                                   OneHotEncoder())]),\n",
       "                                                  ['complainant_gender',\n",
       "                                                   'outcome_description']),\n",
       "                                                 ('cat2',\n",
       "                                                  Pipeline(steps=[('zero',\n",
       "                                                                   FunctionTransformer(func=<function change_to_null_if_under_zero at 0x7fe728095af0>)),\n",
       "                                                                  ('fill_missing',\n",
       "                                                                   SimpleImputer()),\n",
       "                                                                  ('std',\n",
       "                                                                   StandardScaler())]),\n",
       "                                                  ['complainant_age_incident']),\n",
       "                                                 ('cat3',\n",
       "                                                  Pipeline(steps=[('oh',\n",
       "                                                                   OneHotEncoder())]),\n",
       "                                                  ['fado_type', 'mos_gender',\n",
       "                                                   'rank_incident']),\n",
       "                                                 ('std11',\n",
       "                                                  Pipeline(steps=[('stdd',\n",
       "                                                                   StandardScaler())]),\n",
       "                                                  ['mos_age_incident'])])),\n",
       "                ('classifier', DecisionTreeClassifier())])"
      ]
     },
     "execution_count": 92,
     "metadata": {},
     "output_type": "execute_result"
    }
   ],
   "source": [
    "# fit \n",
    "result_pl3.fit(X_train, y_train)"
   ]
  },
  {
   "cell_type": "code",
   "execution_count": 93,
   "metadata": {},
   "outputs": [
    {
     "data": {
      "text/plain": [
       "array([ True,  True,  True, ..., False,  True, False])"
      ]
     },
     "execution_count": 93,
     "metadata": {},
     "output_type": "execute_result"
    }
   ],
   "source": [
    "# Model to predict the test set\n",
    "pred = result_pl3.predict(X_test)\n",
    "pred"
   ]
  },
  {
   "cell_type": "code",
   "execution_count": 94,
   "metadata": {},
   "outputs": [
    {
     "data": {
      "text/plain": [
       "0.6071143085531575"
      ]
     },
     "execution_count": 94,
     "metadata": {},
     "output_type": "execute_result"
    }
   ],
   "source": [
    "#f1_score(y_test,pred,average = 'weighted')\n",
    "metrics.accuracy_score(y_test, pred)"
   ]
  },
  {
   "cell_type": "markdown",
   "metadata": {},
   "source": [
    "#### Seems like it improve a little."
   ]
  },
  {
   "cell_type": "markdown",
   "metadata": {},
   "source": [
    "### Forth Model, then we try to formulate a new column: `same_gender`\n",
    "#### Maybe if the mos and complainant of different gender are more likely to report successful case. "
   ]
  },
  {
   "cell_type": "code",
   "execution_count": 95,
   "metadata": {},
   "outputs": [],
   "source": [
    "# Categorical feature, we just fill in with the most frequent one\n",
    "features_cat = ['complainant_gender','outcome_description']\n",
    "imp1 = SimpleImputer(strategy='most_frequent')\n",
    "pl1 = Pipeline(steps = [\n",
    "    ('fill_missing', imp1),\n",
    "    ('oh', OneHotEncoder())\n",
    "])\n",
    "\n",
    "# Numerical feature\n",
    "features_num = ['complainant_age_incident']\n",
    "\n",
    "# Define a function to transform all values smaller than zero to null\n",
    "# Then impute the null\n",
    "def change_to_null_if_under_zero(df):\n",
    "    df.loc[(df['complainant_age_incident'] <= 0), 'complainant_age_incident']= np.NaN\n",
    "    return df\n",
    "\n",
    "change = FunctionTransformer(change_to_null_if_under_zero)\n",
    "imp2 = SimpleImputer(strategy='mean')\n",
    "pl2 = Pipeline(steps = [\n",
    "    ('zero', change),\n",
    "    ('fill_missing', imp2),\n",
    "    ('std', StandardScaler())\n",
    "])\n",
    "\n",
    "\n",
    "features_oh = ['fado_type','mos_gender','rank_incident']\n",
    "pl3 = Pipeline(steps = [\n",
    "    ('oh', OneHotEncoder())\n",
    "])\n",
    "\n",
    "a = ['mos_age_incident']\n",
    "pl4 = Pipeline(steps = [\n",
    "    ('stdd', StandardScaler())\n",
    "])\n",
    "\n",
    "\n",
    "#ADD\n",
    "#same categorical features\n",
    "same_feat = ['complainant_gender', 'mos_gender']\n",
    "def same_age(df):\n",
    "    df['same_gender'] = df['complainant_gender'] == df['mos_gender']\n",
    "    return df\n",
    "same = FunctionTransformer(same_age)\n",
    "pl5 = Pipeline(steps = [\n",
    "    ('same', same),\n",
    "    ('oh', OneHotEncoder())\n",
    "])\n",
    "\n",
    "trans4 = ColumnTransformer(\n",
    "    transformers = [\n",
    "        ('cat1', pl1, features_cat),\n",
    "        ('cat2', pl2, features_num),\n",
    "        ('cat3', pl3, features_oh),\n",
    "        ('std11',pl4, a),\n",
    "        ('same',pl5, same_feat)]\n",
    ")\n",
    "result_pl4 = Pipeline([\n",
    "    ('col_trans', trans4),\n",
    "    (\"classifier\", DecisionTreeClassifier())\n",
    "])"
   ]
  },
  {
   "cell_type": "code",
   "execution_count": 96,
   "metadata": {},
   "outputs": [
    {
     "data": {
      "text/plain": [
       "Pipeline(steps=[('col_trans',\n",
       "                 ColumnTransformer(transformers=[('cat1',\n",
       "                                                  Pipeline(steps=[('fill_missing',\n",
       "                                                                   SimpleImputer(strategy='most_frequent')),\n",
       "                                                                  ('oh',\n",
       "                                                                   OneHotEncoder())]),\n",
       "                                                  ['complainant_gender',\n",
       "                                                   'outcome_description']),\n",
       "                                                 ('cat2',\n",
       "                                                  Pipeline(steps=[('zero',\n",
       "                                                                   FunctionTransformer(func=<function change_to_null_if_under_zero at 0x7fe7280959d0>)),\n",
       "                                                                  ('fill_missing',\n",
       "                                                                   SimpleI...\n",
       "                                                  Pipeline(steps=[('oh',\n",
       "                                                                   OneHotEncoder())]),\n",
       "                                                  ['fado_type', 'mos_gender',\n",
       "                                                   'rank_incident']),\n",
       "                                                 ('std11',\n",
       "                                                  Pipeline(steps=[('stdd',\n",
       "                                                                   StandardScaler())]),\n",
       "                                                  ['mos_age_incident']),\n",
       "                                                 ('same',\n",
       "                                                  Pipeline(steps=[('same',\n",
       "                                                                   FunctionTransformer(func=<function same_age at 0x7fe7280953a0>)),\n",
       "                                                                  ('oh',\n",
       "                                                                   OneHotEncoder())]),\n",
       "                                                  ['complainant_gender',\n",
       "                                                   'mos_gender'])])),\n",
       "                ('classifier', DecisionTreeClassifier())])"
      ]
     },
     "execution_count": 96,
     "metadata": {},
     "output_type": "execute_result"
    }
   ],
   "source": [
    "# fit \n",
    "result_pl4.fit(X_train, y_train)"
   ]
  },
  {
   "cell_type": "code",
   "execution_count": 97,
   "metadata": {},
   "outputs": [
    {
     "data": {
      "text/plain": [
       "array([ True,  True,  True, ..., False,  True, False])"
      ]
     },
     "execution_count": 97,
     "metadata": {},
     "output_type": "execute_result"
    }
   ],
   "source": [
    "# Model to predict the test\n",
    "pred = result_pl4.predict(X_test)\n",
    "pred"
   ]
  },
  {
   "cell_type": "code",
   "execution_count": 98,
   "metadata": {},
   "outputs": [
    {
     "data": {
      "text/plain": [
       "0.605515587529976"
      ]
     },
     "execution_count": 98,
     "metadata": {},
     "output_type": "execute_result"
    }
   ],
   "source": [
    "# Model accuracy for the test set\n",
    "metrics.accuracy_score(y_test, pred)"
   ]
  },
  {
   "cell_type": "markdown",
   "metadata": {},
   "source": [
    "#### The same gender group improves a little bit. Which is not good enough."
   ]
  },
  {
   "cell_type": "markdown",
   "metadata": {},
   "source": [
    "### Final Model"
   ]
  },
  {
   "cell_type": "markdown",
   "metadata": {},
   "source": [
    "#### Grid search for parameter"
   ]
  },
  {
   "cell_type": "code",
   "execution_count": 104,
   "metadata": {},
   "outputs": [],
   "source": [
    "# we will perform train test split.\n",
    "X = features_df.drop('board_disposition', axis = 1)\n",
    "y = features_df['board_disposition']\n",
    "X_train, X_test, y_train, y_test = train_test_split(X, y, test_size = 0.3)"
   ]
  },
  {
   "cell_type": "code",
   "execution_count": 100,
   "metadata": {},
   "outputs": [
    {
     "data": {
      "text/plain": [
       "{'max_depth': 5, 'min_samples_split': 7}"
      ]
     },
     "execution_count": 100,
     "metadata": {},
     "output_type": "execute_result"
    }
   ],
   "source": [
    "# Use GridSearchCV to find the best hyperparameters.\n",
    "hyperparameters = {\n",
    "    'max_depth': [5,7,10,13,15,17,None],\n",
    "    'min_samples_split': [2, 3, 5, 7, 10, 15]\n",
    "}\n",
    "clf = GridSearchCV(DecisionTreeClassifier(), param_grid=hyperparameters, cv = 5)\n",
    "clf.fit(trans4.fit_transform(X_train), y_train)\n",
    "clf.best_params_"
   ]
  },
  {
   "cell_type": "markdown",
   "metadata": {},
   "source": [
    "#### Final model with gridsearch parameter\n"
   ]
  },
  {
   "cell_type": "code",
   "execution_count": 105,
   "metadata": {},
   "outputs": [],
   "source": [
    "# For categorical features, we just fill in with the most frequent one\n",
    "features_cat = ['complainant_gender','outcome_description']\n",
    "imp1 = SimpleImputer(strategy='most_frequent')\n",
    "pl1 = Pipeline(steps = [\n",
    "    ('fill_missing', imp1),\n",
    "    ('oh', OneHotEncoder())\n",
    "])\n",
    "\n",
    "# Numerical feature\n",
    "features_num = ['complainant_age_incident']\n",
    "\n",
    "# Define a function to transform all values smaller than zero to null\n",
    "# Then impute the null\n",
    "def change_to_null_if_under_zero(df):\n",
    "    df.loc[(df['complainant_age_incident'] <= 0), 'complainant_age_incident']= np.NaN\n",
    "    return df\n",
    "\n",
    "change = FunctionTransformer(change_to_null_if_under_zero)\n",
    "imp2 = SimpleImputer(strategy='mean')\n",
    "pl2 = Pipeline(steps = [\n",
    "    ('zero', change),\n",
    "    ('fill_missing', imp2),\n",
    "    ('std', StandardScaler())\n",
    "])\n",
    "\n",
    "\n",
    "features_oh = ['fado_type','mos_gender','rank_incident']\n",
    "pl3 = Pipeline(steps = [\n",
    "    ('oh', OneHotEncoder())\n",
    "])\n",
    "\n",
    "a = ['mos_age_incident']\n",
    "pl4 = Pipeline(steps = [\n",
    "    ('stdd', StandardScaler())\n",
    "])\n",
    "\n",
    "\n",
    "#ADD\n",
    "#same categorical features\n",
    "same_feat = ['complainant_gender', 'mos_gender']\n",
    "def same_age(df):\n",
    "    df['same_gender'] = df['complainant_gender'] == df['mos_gender']\n",
    "    return df\n",
    "same = FunctionTransformer(same_age)\n",
    "pl5 = Pipeline(steps = [\n",
    "    ('same', same),\n",
    "    ('oh', OneHotEncoder())\n",
    "])\n",
    "\n",
    "trans_final = ColumnTransformer(\n",
    "    transformers = [\n",
    "        ('cat1', pl1, features_cat),\n",
    "        ('cat2', pl2, features_num),\n",
    "        ('cat3', pl3, features_oh),\n",
    "        ('std11',pl4, a),\n",
    "        ('same',pl5, same_feat)]\n",
    ")\n",
    "result_final = Pipeline([\n",
    "    ('col_trans', trans_final),\n",
    "    (\"classifier\", DecisionTreeClassifier(max_depth = 5, min_samples_split= 7))])"
   ]
  },
  {
   "cell_type": "code",
   "execution_count": 106,
   "metadata": {},
   "outputs": [
    {
     "data": {
      "text/plain": [
       "Pipeline(steps=[('col_trans',\n",
       "                 ColumnTransformer(transformers=[('cat1',\n",
       "                                                  Pipeline(steps=[('fill_missing',\n",
       "                                                                   SimpleImputer(strategy='most_frequent')),\n",
       "                                                                  ('oh',\n",
       "                                                                   OneHotEncoder())]),\n",
       "                                                  ['complainant_gender',\n",
       "                                                   'outcome_description']),\n",
       "                                                 ('cat2',\n",
       "                                                  Pipeline(steps=[('zero',\n",
       "                                                                   FunctionTransformer(func=<function change_to_null_if_under_zero at 0x7fe729963040>)),\n",
       "                                                                  ('fill_missing',\n",
       "                                                                   SimpleI...\n",
       "                                                  ['fado_type', 'mos_gender',\n",
       "                                                   'rank_incident']),\n",
       "                                                 ('std11',\n",
       "                                                  Pipeline(steps=[('stdd',\n",
       "                                                                   StandardScaler())]),\n",
       "                                                  ['mos_age_incident']),\n",
       "                                                 ('same',\n",
       "                                                  Pipeline(steps=[('same',\n",
       "                                                                   FunctionTransformer(func=<function same_age at 0x7fe72996c1f0>)),\n",
       "                                                                  ('oh',\n",
       "                                                                   OneHotEncoder())]),\n",
       "                                                  ['complainant_gender',\n",
       "                                                   'mos_gender'])])),\n",
       "                ('classifier',\n",
       "                 DecisionTreeClassifier(max_depth=5, min_samples_split=7))])"
      ]
     },
     "execution_count": 106,
     "metadata": {},
     "output_type": "execute_result"
    }
   ],
   "source": [
    "# fit \n",
    "result_final.fit(X_train, y_train)"
   ]
  },
  {
   "cell_type": "code",
   "execution_count": 107,
   "metadata": {},
   "outputs": [],
   "source": [
    "# Model to predict the test\n",
    "pred_test = result_final.predict(X_test)\n",
    "pred_train = result_final.predict(X_train)"
   ]
  },
  {
   "cell_type": "code",
   "execution_count": 108,
   "metadata": {},
   "outputs": [
    {
     "data": {
      "text/plain": [
       "0.6241970021413277"
      ]
     },
     "execution_count": 108,
     "metadata": {},
     "output_type": "execute_result"
    }
   ],
   "source": [
    "# Model accuracy in the train set\n",
    "metrics.accuracy_score(y_train, pred_train)"
   ]
  },
  {
   "cell_type": "code",
   "execution_count": 109,
   "metadata": {},
   "outputs": [
    {
     "data": {
      "text/plain": [
       "0.6214028776978417"
      ]
     },
     "execution_count": 109,
     "metadata": {},
     "output_type": "execute_result"
    }
   ],
   "source": [
    "# Model accuracy in the test set\n",
    "metrics.accuracy_score(y_test, pred_test)"
   ]
  },
  {
   "cell_type": "markdown",
   "metadata": {},
   "source": [
    "- Therefore, we decide that our final model is the model that invovles 7 features, including \n",
    "'fado_type','complainant_gender','mos_gender','mos_age_incident','complainant_age_incident','rank_incident','outcome_description'.\n",
    "\n",
    "- Accuracy increases from 0.58 to 0.62.(improve by about 4%). And the accuracy for train and test is approximagely the same. \n",
    "- Remark: Although we tried a lot methods of feature engineering, they cannot improve the model a lot. "
   ]
  },
  {
   "cell_type": "markdown",
   "metadata": {},
   "source": [
    "### Fairness Analysis"
   ]
  },
  {
   "cell_type": "markdown",
   "metadata": {},
   "source": [
    "#### For the fairness analysis, we choose the column `mos gender`. We want to know whether our model perform the same for individuals in female mos and for individuals in male mos. \n",
    "- Null Hypothesis: Our model is fair. Its precision for female polices and male polices are roughly the same, and any differences are due to random chance.\n",
    "- Alternative Hypothesis: Our model is unfair. Its precision for female polices is lower than its precision for male polices.\n",
    "- Test statistic: Difference in precision (female polices minus male polices).\n",
    "- Significance level: alpha = 0.05."
   ]
  },
  {
   "cell_type": "code",
   "execution_count": 110,
   "metadata": {},
   "outputs": [
    {
     "data": {
      "text/html": [
       "<div>\n",
       "<style scoped>\n",
       "    .dataframe tbody tr th:only-of-type {\n",
       "        vertical-align: middle;\n",
       "    }\n",
       "\n",
       "    .dataframe tbody tr th {\n",
       "        vertical-align: top;\n",
       "    }\n",
       "\n",
       "    .dataframe thead th {\n",
       "        text-align: right;\n",
       "    }\n",
       "</style>\n",
       "<table border=\"1\" class=\"dataframe\">\n",
       "  <thead>\n",
       "    <tr style=\"text-align: right;\">\n",
       "      <th></th>\n",
       "      <th>fado_type</th>\n",
       "      <th>complainant_gender</th>\n",
       "      <th>mos_gender</th>\n",
       "      <th>mos_age_incident</th>\n",
       "      <th>complainant_age_incident</th>\n",
       "      <th>rank_incident</th>\n",
       "      <th>outcome_description</th>\n",
       "      <th>board_disposition</th>\n",
       "      <th>predicted_outcome</th>\n",
       "    </tr>\n",
       "  </thead>\n",
       "  <tbody>\n",
       "    <tr>\n",
       "      <th>22231</th>\n",
       "      <td>Abuse of Authority</td>\n",
       "      <td>Male</td>\n",
       "      <td>Male</td>\n",
       "      <td>27</td>\n",
       "      <td>29.0</td>\n",
       "      <td>Police Officer</td>\n",
       "      <td>Arrest - other violation/crime</td>\n",
       "      <td>True</td>\n",
       "      <td>True</td>\n",
       "    </tr>\n",
       "    <tr>\n",
       "      <th>18436</th>\n",
       "      <td>Abuse of Authority</td>\n",
       "      <td>Male</td>\n",
       "      <td>Male</td>\n",
       "      <td>32</td>\n",
       "      <td>17.0</td>\n",
       "      <td>Police Officer</td>\n",
       "      <td>Summons - disorderly conduct</td>\n",
       "      <td>True</td>\n",
       "      <td>True</td>\n",
       "    </tr>\n",
       "    <tr>\n",
       "      <th>10968</th>\n",
       "      <td>Discourtesy</td>\n",
       "      <td>Male</td>\n",
       "      <td>Male</td>\n",
       "      <td>37</td>\n",
       "      <td>15.0</td>\n",
       "      <td>Police Officer</td>\n",
       "      <td>Arrest - assault (against a PO)</td>\n",
       "      <td>False</td>\n",
       "      <td>False</td>\n",
       "    </tr>\n",
       "    <tr>\n",
       "      <th>12391</th>\n",
       "      <td>Force</td>\n",
       "      <td>Male</td>\n",
       "      <td>Male</td>\n",
       "      <td>27</td>\n",
       "      <td>28.0</td>\n",
       "      <td>Police Officer</td>\n",
       "      <td>Arrest - other violation/crime</td>\n",
       "      <td>False</td>\n",
       "      <td>True</td>\n",
       "    </tr>\n",
       "    <tr>\n",
       "      <th>30948</th>\n",
       "      <td>Discourtesy</td>\n",
       "      <td>Male</td>\n",
       "      <td>Male</td>\n",
       "      <td>42</td>\n",
       "      <td>51.0</td>\n",
       "      <td>Police Officer</td>\n",
       "      <td>No arrest made or summons issued</td>\n",
       "      <td>False</td>\n",
       "      <td>False</td>\n",
       "    </tr>\n",
       "  </tbody>\n",
       "</table>\n",
       "</div>"
      ],
      "text/plain": [
       "                fado_type complainant_gender mos_gender  mos_age_incident  \\\n",
       "22231  Abuse of Authority               Male       Male                27   \n",
       "18436  Abuse of Authority               Male       Male                32   \n",
       "10968         Discourtesy               Male       Male                37   \n",
       "12391               Force               Male       Male                27   \n",
       "30948         Discourtesy               Male       Male                42   \n",
       "\n",
       "       complainant_age_incident   rank_incident  \\\n",
       "22231                      29.0  Police Officer   \n",
       "18436                      17.0  Police Officer   \n",
       "10968                      15.0  Police Officer   \n",
       "12391                      28.0  Police Officer   \n",
       "30948                      51.0  Police Officer   \n",
       "\n",
       "                    outcome_description  board_disposition  predicted_outcome  \n",
       "22231    Arrest - other violation/crime               True               True  \n",
       "18436      Summons - disorderly conduct               True               True  \n",
       "10968   Arrest - assault (against a PO)              False              False  \n",
       "12391    Arrest - other violation/crime              False               True  \n",
       "30948  No arrest made or summons issued              False              False  "
      ]
     },
     "execution_count": 110,
     "metadata": {},
     "output_type": "execute_result"
    }
   ],
   "source": [
    "#mos_gender\n",
    "df_test = X_test\n",
    "df_test['board_disposition'] = y_test\n",
    "df_test['predicted_outcome']= result_final.predict(df_test)\n",
    "df_test.head()"
   ]
  },
  {
   "cell_type": "code",
   "execution_count": 113,
   "metadata": {},
   "outputs": [
    {
     "data": {
      "text/plain": [
       "-0.04964392769552184"
      ]
     },
     "execution_count": 113,
     "metadata": {},
     "output_type": "execute_result"
    }
   ],
   "source": [
    "# Observe statistics\n",
    "obs = df_test.groupby('mos_gender').apply(lambda x: metrics.precision_score(x['board_disposition'], x['predicted_outcome'])).diff().iloc[-1]\n",
    "obs"
   ]
  },
  {
   "cell_type": "code",
   "execution_count": 117,
   "metadata": {},
   "outputs": [],
   "source": [
    "# We perform permutation on the dataframe df5\n",
    "result = []\n",
    "for i in range(1000):\n",
    "    stats = (\n",
    "        df_test[['mos_gender', 'predicted_outcome', 'board_disposition']]\n",
    "        .assign(mos_gender=df_test.mos_gender.sample(frac=1.0, replace=False).reset_index(drop=True))\n",
    "        .groupby('mos_gender')\n",
    "        .apply(lambda x: metrics.precision_score(x['predicted_outcome'], x['board_disposition']))\n",
    "        .diff()\n",
    "        .iloc[-1]\n",
    "    )\n",
    "    \n",
    "    result.append(stats)"
   ]
  },
  {
   "cell_type": "code",
   "execution_count": 118,
   "metadata": {},
   "outputs": [
    {
     "data": {
      "text/plain": [
       "0.07"
      ]
     },
     "execution_count": 118,
     "metadata": {},
     "output_type": "execute_result"
    }
   ],
   "source": [
    "pval = pd.Series(result <= obs).mean()\n",
    "pval"
   ]
  },
  {
   "cell_type": "code",
   "execution_count": 119,
   "metadata": {
    "scrolled": true
   },
   "outputs": [
    {
     "data": {
      "image/png": "[encoded data removed]",
      "text/plain": [
       "<Figure size 432x288 with 1 Axes>"
      ]
     },
     "metadata": {
      "image/png": {
       "height": 263,
       "width": 382
      },
      "needs_background": "light"
     },
     "output_type": "display_data"
    }
   ],
   "source": [
    "pd.Series(result).plot(kind='hist', density = True,ec='w', bins=10, title='Permutation Test for Mos Gender and Alleged Case')\n",
    "plt.axvline(x=obs, color='red', linewidth=3);"
   ]
  },
  {
   "cell_type": "markdown",
   "metadata": {},
   "source": [
    "#### Conclusion: The p-value is 0.07, which is larger than alpha 0.05. Thus, we fail to reject that prediction is \"fair\" among different female and male police. Our model likely achieves precision parity."
   ]
  }
 ],
 "metadata": {
  "kernelspec": {
   "display_name": "Python 3 (ipykernel)",
   "language": "python",
   "name": "python3"
  },
  "language_info": {
   "codemirror_mode": {
    "name": "ipython",
    "version": 3
   },
   "file_extension": ".py",
   "mimetype": "text/x-python",
   "name": "python",
   "nbconvert_exporter": "python",
   "pygments_lexer": "ipython3",
   "version": "3.8.13"
  }
 },
 "nbformat": 4,
 "nbformat_minor": 2
}
